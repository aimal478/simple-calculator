{
  "nbformat": 4,
  "nbformat_minor": 0,
  "metadata": {
    "colab": {
      "provenance": [],
      "authorship_tag": "ABX9TyPX8pfskuc/NduUF3yhKP78",
      "include_colab_link": true
    },
    "kernelspec": {
      "name": "python3",
      "display_name": "Python 3"
    },
    "language_info": {
      "name": "python"
    }
  },
  "cells": [
    {
      "cell_type": "markdown",
      "metadata": {
        "id": "view-in-github",
        "colab_type": "text"
      },
      "source": [
        "<a href=\"https://colab.research.google.com/github/aimal478/simple-calculator/blob/main/practise_calculator.ipynb\" target=\"_parent\"><img src=\"https://colab.research.google.com/assets/colab-badge.svg\" alt=\"Open In Colab\"/></a>"
      ]
    },
    {
      "cell_type": "code",
      "execution_count": 1,
      "metadata": {
        "colab": {
          "base_uri": "https://localhost:8080/",
          "height": 110
        },
        "id": "3hwyEAmCEuGu",
        "outputId": "c842d801-de06-4261-a5e9-b106571babc2"
      },
      "outputs": [
        {
          "output_type": "error",
          "ename": "SyntaxError",
          "evalue": "incomplete input (<ipython-input-1-1d97925be19c>, line 54)",
          "traceback": [
            "\u001b[0;36m  File \u001b[0;32m\"<ipython-input-1-1d97925be19c>\"\u001b[0;36m, line \u001b[0;32m54\u001b[0m\n\u001b[0;31m    [\"4\",]()\u001b[0m\n\u001b[0m            ^\u001b[0m\n\u001b[0;31mSyntaxError\u001b[0m\u001b[0;31m:\u001b[0m incomplete input\n"
          ]
        }
      ],
      "source": [
        "import tkinter as tk\n",
        "import math\n",
        "\n",
        "# Function to evaluate expressions\n",
        "def click(event):\n",
        "    text = event.widget.cget(\"text\")\n",
        "    if text == \"=\":\n",
        "        try:\n",
        "            result = eval(str(entry.get()))\n",
        "            entry_var.set(result)\n",
        "        except Exception as e:\n",
        "            entry_var.set(\"Error\")\n",
        "    elif text == \"C\":\n",
        "        entry_var.set(\"\")\n",
        "    else:\n",
        "        entry_var.set(entry.get() + text)\n",
        "\n",
        "# Scientific Functions\n",
        "def calculate_scientific(func):\n",
        "    try:\n",
        "        value = float(entry.get())\n",
        "        if func == \"sin\":\n",
        "            result = math.sin(math.radians(value))\n",
        "        elif func == \"cos\":\n",
        "            result = math.cos(math.radians(value))\n",
        "        elif func == \"tan\":\n",
        "            result = math.tan(math.radians(value))\n",
        "        elif func == \"log\":\n",
        "            result = math.log10(value)\n",
        "        elif func == \"ln\":\n",
        "            result = math.log(value)\n",
        "        elif func == \"√\":\n",
        "            result = math.sqrt(value)\n",
        "        elif func == \"x²\":\n",
        "            result = value ** 2\n",
        "        entry_var.set(str(result))\n",
        "    except:\n",
        "        entry_var.set(\"Error\")\n",
        "\n",
        "# Main GUI Window\n",
        "root = tk.Tk()\n",
        "root.title(\"Scientific Calculator\")\n",
        "\n",
        "entry_var = tk.StringVar()\n",
        "entry = tk.Entry(root, textvar=entry_var, font=\"Arial 20\", bd=10, relief=tk.RIDGE, justify=\"right\")\n",
        "entry.pack(fill=tk.BOTH, ipadx=8)\n",
        "\n",
        "# Button Frame\n",
        "btns_frame = tk.Frame(root)\n",
        "btns_frame.pack()\n",
        "\n",
        "buttons = [\n",
        "    [\"7\", \"8\", \"9\", \"/\", \"sin\"],\n",
        "    [\"4\",]()\n"
      ]
    },
    {
      "cell_type": "code",
      "source": [
        "import tkinter as tk\n",
        "import math\n",
        "\n",
        "# Function to evaluate expressions\n",
        "def click(event):\n",
        "    text = event.widget.cget(\"text\")\n",
        "    if text == \"=\":\n",
        "        try:\n",
        "            result = eval(str(entry.get()))\n",
        "            entry_var.set(result)\n",
        "        except Exception as e:\n",
        "            entry_var.set(\"Error\")\n",
        "    elif text == \"C\":\n",
        "        entry_var.set(\"\")\n",
        "    else:\n",
        "        entry_var.set(entry.get() + text)\n",
        "\n",
        "# Scientific Functions\n",
        "def calculate_scientific(func):\n",
        "    try:\n",
        "        value = float(entry.get())\n",
        "        if func == \"sin\":\n",
        "            result = math.sin(math.radians(value))\n",
        "        elif func == \"cos\":\n",
        "            result = math.cos(math.radians(value))\n",
        "        elif func == \"tan\":\n",
        "            result = math.tan(math.radians(value))\n",
        "        elif func == \"log\":\n",
        "            result = math.log10(value)\n",
        "        elif func == \"ln\":\n",
        "            result = math.log(value)\n",
        "        elif func == \"√\":\n",
        "            result = math.sqrt(value)\n",
        "        elif func == \"x²\":\n",
        "            result = value ** 2\n",
        "        entry_var.set(str(result))\n",
        "    except:\n",
        "        entry_var.set(\"Error\")\n",
        "\n",
        "# Main GUI Window\n",
        "root = tk.Tk()\n",
        "root.title(\"Scientific Calculator\")\n",
        "\n",
        "entry_var = tk.StringVar()\n",
        "entry = tk.Entry(root, textvar=entry_var, font=\"Arial 20\", bd=10, relief=tk.RIDGE, justify=\"right\")\n",
        "entry.pack(fill=tk.BOTH, ipadx=8)\n",
        "\n",
        "# Button Frame\n",
        "btns_frame = tk.Frame(root)\n",
        "btns_frame.pack()\n",
        "\n",
        "buttons = [\n",
        "    [\"7\", \"8\", \"9\", \"/\", \"sin\"],\n",
        "    [\"4\",]()\n"
      ],
      "metadata": {
        "colab": {
          "base_uri": "https://localhost:8080/",
          "height": 110
        },
        "id": "EJ5Dv_LGE7T-",
        "outputId": "1c9cdc2b-0a9d-4afd-d845-e3c3d6b0df53"
      },
      "execution_count": 2,
      "outputs": [
        {
          "output_type": "error",
          "ename": "SyntaxError",
          "evalue": "incomplete input (<ipython-input-2-1d97925be19c>, line 54)",
          "traceback": [
            "\u001b[0;36m  File \u001b[0;32m\"<ipython-input-2-1d97925be19c>\"\u001b[0;36m, line \u001b[0;32m54\u001b[0m\n\u001b[0;31m    [\"4\",]()\u001b[0m\n\u001b[0m            ^\u001b[0m\n\u001b[0;31mSyntaxError\u001b[0m\u001b[0;31m:\u001b[0m incomplete input\n"
          ]
        }
      ]
    },
    {
      "cell_type": "code",
      "source": [
        "# Simple Calculator in Google Colab\n",
        "\n",
        "def calculator():\n",
        "    print(\"Simple Calculator\")\n",
        "    print(\"Select Operation:\")\n",
        "    print(\"1. Addition (+)\")\n",
        "    print(\"2. Subtraction (-)\")\n",
        "    print(\"3. Multiplication (*)\")\n",
        "    print(\"4. Division (/)\")\n",
        "\n",
        "    choice = input(\"Enter choice (1/2/3/4): \")\n",
        "\n",
        "    if choice in ['1', '2', '3', '4']:\n",
        "        num1 = float(input(\"Enter first number: \"))\n",
        "        num2 = float(input(\"Enter second number: \"))\n",
        "\n",
        "        if choice == '1':\n",
        "            print(f\"{num1} + {num2} = {num1 + num2}\")\n",
        "        elif choice == '2':\n",
        "            print(f\"{num1} - {num2} = {num1 - num2}\")\n",
        "        elif choice == '3':\n",
        "            print(f\"{num1} * {num2} = {num1 * num2}\")\n",
        "        elif choice == '4':\n",
        "            if num2 != 0:\n",
        "                print(f\"{num1} / {num2} = {num1 / num2}\")\n",
        "            else:\n",
        "                print(\"Error: Division by zero\")\n",
        "    else:\n",
        "        print(\"Invalid input\")\n",
        "\n",
        "# Run the calculator\n",
        "calculator()\n"
      ],
      "metadata": {
        "colab": {
          "base_uri": "https://localhost:8080/"
        },
        "id": "STRnwgPJH-ea",
        "outputId": "ea05e393-d777-4df9-e188-ccce07ecae79"
      },
      "execution_count": 3,
      "outputs": [
        {
          "output_type": "stream",
          "name": "stdout",
          "text": [
            "Simple Calculator\n",
            "Select Operation:\n",
            "1. Addition (+)\n",
            "2. Subtraction (-)\n",
            "3. Multiplication (*)\n",
            "4. Division (/)\n",
            "Enter choice (1/2/3/4): 2\n",
            "Enter first number: 3\n",
            "Enter second number: 7\n",
            "3.0 - 7.0 = -4.0\n"
          ]
        }
      ]
    }
  ]
}