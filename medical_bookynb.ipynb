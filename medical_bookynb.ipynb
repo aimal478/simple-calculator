{
  "nbformat": 4,
  "nbformat_minor": 0,
  "metadata": {
    "colab": {
      "provenance": [],
      "authorship_tag": "ABX9TyMC/FHD8WiNk2HXQ5aEYU04",
      "include_colab_link": true
    },
    "kernelspec": {
      "name": "python3",
      "display_name": "Python 3"
    },
    "language_info": {
      "name": "python"
    }
  },
  "cells": [
    {
      "cell_type": "markdown",
      "metadata": {
        "id": "view-in-github",
        "colab_type": "text"
      },
      "source": [
        "<a href=\"https://colab.research.google.com/github/aimal478/simple-calculator/blob/main/medical_bookynb.ipynb\" target=\"_parent\"><img src=\"https://colab.research.google.com/assets/colab-badge.svg\" alt=\"Open In Colab\"/></a>"
      ]
    },
    {
      "cell_type": "code",
      "execution_count": 1,
      "metadata": {
        "colab": {
          "base_uri": "https://localhost:8080/"
        },
        "id": "PJlovb48fszp",
        "outputId": "da0ac1d1-1d8f-4395-f1f7-2230de10aeeb"
      },
      "outputs": [
        {
          "output_type": "stream",
          "name": "stdout",
          "text": [
            "Collecting reportlab\n",
            "  Downloading reportlab-4.4.1-py3-none-any.whl.metadata (1.8 kB)\n",
            "Requirement already satisfied: pillow>=9.0.0 in /usr/local/lib/python3.11/dist-packages (from reportlab) (11.2.1)\n",
            "Requirement already satisfied: chardet in /usr/local/lib/python3.11/dist-packages (from reportlab) (5.2.0)\n",
            "Downloading reportlab-4.4.1-py3-none-any.whl (2.0 MB)\n",
            "\u001b[2K   \u001b[90m━━━━━━━━━━━━━━━━━━━━━━━━━━━━━━━━━━━━━━━━\u001b[0m \u001b[32m2.0/2.0 MB\u001b[0m \u001b[31m21.5 MB/s\u001b[0m eta \u001b[36m0:00:00\u001b[0m\n",
            "\u001b[?25hInstalling collected packages: reportlab\n",
            "Successfully installed reportlab-4.4.1\n",
            "✅ Medical book created: Simple_Medical_Book.pdf\n"
          ]
        }
      ],
      "source": [
        "# Install the required library\n",
        "!pip install reportlab\n",
        "\n",
        "# Import necessary module\n",
        "from reportlab.lib.pagesizes import A4\n",
        "from reportlab.pdfgen import canvas\n",
        "\n",
        "# Define book details\n",
        "file_name = \"Simple_Medical_Book.pdf\"\n",
        "document_title = \"Simple Medical Book\"\n",
        "author = \"Dr. Aimal Iftikhar\"\n",
        "\n",
        "# Create a PDF canvas\n",
        "c = canvas.Canvas(file_name, pagesize=A4)\n",
        "width, height = A4\n",
        "\n",
        "# Add title page\n",
        "c.setFont(\"Helvetica-Bold\", 24)\n",
        "c.drawCentredString(width / 2, height - 100, document_title)\n",
        "c.setFont(\"Helvetica\", 16)\n",
        "c.drawCentredString(width / 2, height - 130, f\"By: {author}\")\n",
        "c.showPage()\n",
        "\n",
        "# Add some sample content\n",
        "def add_section(title, content):\n",
        "    c.setFont(\"Helvetica-Bold\", 18)\n",
        "    c.drawString(50, height - 80, title)\n",
        "    c.setFont(\"Helvetica\", 12)\n",
        "    y = height - 120\n",
        "    for line in content.split('\\n'):\n",
        "        c.drawString(50, y, line)\n",
        "        y -= 20\n",
        "        if y < 80:\n",
        "            c.showPage()\n",
        "            y = height - 80\n",
        "    c.showPage()\n",
        "\n",
        "# Sample sections\n",
        "add_section(\"1. Common Cold\", \"Symptoms:\\n- Runny nose\\n- Cough\\n- Sneezing\\n\\nTreatment:\\n- Rest\\n- Fluids\\n- Paracetamol\")\n",
        "\n",
        "add_section(\"2. Diabetes Mellitus\", \"Symptoms:\\n- Frequent urination\\n- Increased thirst\\n- Fatigue\\n\\nTreatment:\\n- Insulin\\n- Diet control\\n- Exercise\")\n",
        "\n",
        "add_section(\"3. Hypertension\", \"Symptoms:\\n- Headache\\n- Dizziness\\n- Blurred vision\\n\\nTreatment:\\n- Antihypertensives\\n- Salt restriction\\n- Lifestyle changes\")\n",
        "\n",
        "# Save the PDF\n",
        "c.save()\n",
        "\n",
        "print(\"✅ Medical book created: Simple_Medical_Book.pdf\")\n"
      ]
    }
  ]
}